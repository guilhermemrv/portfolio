{
  "nbformat": 4,
  "nbformat_minor": 0,
  "metadata": {
    "colab": {
      "name": "04 - Web Scraping.ipynb",
      "provenance": [],
      "authorship_tag": "ABX9TyM/MFJ1TCEdouDPVuUd+QQ9",
      "include_colab_link": true
    },
    "kernelspec": {
      "name": "python3",
      "display_name": "Python 3"
    }
  },
  "cells": [
    {
      "cell_type": "markdown",
      "metadata": {
        "id": "view-in-github",
        "colab_type": "text"
      },
      "source": [
        "<a href=\"https://colab.research.google.com/github/guilhermemrv/portfolio/blob/master/04_Web_Scraping.ipynb\" target=\"_parent\"><img src=\"https://colab.research.google.com/assets/colab-badge.svg\" alt=\"Open In Colab\"/></a>"
      ]
    },
    {
      "cell_type": "markdown",
      "metadata": {
        "id": "G8Sw5tkD1oWa",
        "colab_type": "text"
      },
      "source": [
        "Nesse projeto faremos scraping de um site e em seguida retornaremos os dados em um dataframe.\n",
        "\n",
        "Habilidades desenvolvidas no código abaixo:\n",
        "\n",
        "1. Realização de Scraping usando o BeautifulSoup, utilizando as tags e classes HTML para identificação das informações desejadas.\n",
        "2. Criação de loop para extrair informações de uma sequência de websites.\n",
        "3. Criação de um DataFrame com as informações obtidas.\n",
        "\n",
        "Você pode acessar o site para entender os dados que serão extraidos:\n",
        "https://alura-site-scraping.herokuapp.com/index.php"
      ]
    },
    {
      "cell_type": "code",
      "metadata": {
        "id": "Zivr66WAvT3T",
        "colab_type": "code",
        "colab": {}
      },
      "source": [
        "import bs4\n",
        "import urllib.request as urllib_request\n",
        "import pandas as pd\n",
        "\n",
        "from urllib.request import urlretrieve, urlopen\n",
        "from bs4 import BeautifulSoup\n",
        "\n",
        "#O site utilizado foi criado para fins educativos.\n",
        "url = 'https://alura-site-scraping.herokuapp.com/index.php'\n",
        "response = urlopen(url)\n",
        "html = response.read().decode('utf-8')\n",
        "#obtemos o código inteiro da página\n",
        "#decode converte a pagina de bytes para string\n"
      ],
      "execution_count": null,
      "outputs": []
    },
    {
      "cell_type": "code",
      "metadata": {
        "id": "4o8Cgx7H3HB1",
        "colab_type": "code",
        "colab": {}
      },
      "source": [
        "#Vamos tratar o codigo e retirar os espaços em branco\n",
        "#Para isso criaremos uma função, que posteriormente será repetido.\n",
        "#split irá separar cada item do código, o join e o replace irão retirar os espaços.\n",
        "def trata_html(input):\n",
        "    return \" \".join(input.split()).replace('> <','><')\n",
        "\n",
        "html = trata_html(html)"
      ],
      "execution_count": null,
      "outputs": []
    },
    {
      "cell_type": "code",
      "metadata": {
        "id": "MQQ05y0n4i6f",
        "colab_type": "code",
        "colab": {}
      },
      "source": [
        "#Para acessar as informações usaremos o Beautiful Soup\n",
        "\n",
        "soup = BeautifulSoup(html, 'html.parser')"
      ],
      "execution_count": null,
      "outputs": []
    },
    {
      "cell_type": "code",
      "metadata": {
        "id": "8XaL_UTQ4p9n",
        "colab_type": "code",
        "colab": {
          "base_uri": "https://localhost:8080/",
          "height": 35
        },
        "outputId": "41196f03-2641-4b9d-eff3-aef9ee9eaa90"
      },
      "source": [
        "#A partir de agora, iremos analisar a página que iremos fazer o scraping e tiraremos as informações que são relevantes para automatizar a retirada de dados\n",
        "#Iniciaremos identificando quantas páginas serão abertas e retirada\n",
        "#Verificamos que tal informação se encontra na tag 'span'. Atenção para colocar um underline após a class, pois o python pode confundir o comando.\n",
        "\n",
        "texto_paginas = soup.find('span',class_=\"info-pages\").get_text()\n",
        "texto_paginas"
      ],
      "execution_count": null,
      "outputs": [
        {
          "output_type": "execute_result",
          "data": {
            "application/vnd.google.colaboratory.intrinsic+json": {
              "type": "string"
            },
            "text/plain": [
              "'Página 1 de 25'"
            ]
          },
          "metadata": {
            "tags": []
          },
          "execution_count": 24
        }
      ]
    },
    {
      "cell_type": "code",
      "metadata": {
        "id": "q6oVKBYkGjYi",
        "colab_type": "code",
        "colab": {
          "base_uri": "https://localhost:8080/",
          "height": 34
        },
        "outputId": "bcd37e1b-a85d-4cb6-8442-db87c01e5ac9"
      },
      "source": [
        "#No caso iremos separar cada palavra da frase e pegar o último. \n",
        "pages = int(soup.find('span',class_=\"info-pages\").get_text().split()[-1])\n",
        "pages"
      ],
      "execution_count": null,
      "outputs": [
        {
          "output_type": "execute_result",
          "data": {
            "text/plain": [
              "25"
            ]
          },
          "metadata": {
            "tags": []
          },
          "execution_count": 26
        }
      ]
    },
    {
      "cell_type": "markdown",
      "metadata": {
        "id": "qJY0XCZqH1Jc",
        "colab_type": "text"
      },
      "source": [
        "Iremos fazer agora um loop para abrir cada página e recolher as informações que queremos de cada ítem\n",
        "\n",
        "Note que os dados estão divididos em cards, e utilizaremos essa estrutura\n"
      ]
    },
    {
      "cell_type": "code",
      "metadata": {
        "id": "6GEFKN_xHr9V",
        "colab_type": "code",
        "colab": {}
      },
      "source": [
        "#Criamos a lista que será adicionado os dicionários\n",
        "cards = []\n",
        "\n",
        "for i in range(pages):\n",
        "   \n",
        "    #Identificamos que cada página difere apenas no último caractere, então ele que vai ser o primeiro loop\n",
        "    response = urlopen('https://alura-site-scraping.herokuapp.com/index.php?page=' + str(i +1) )\n",
        "    html = response.read().decode('utf-8')\n",
        "    soup = BeautifulSoup(html, 'html.parser')\n",
        "\n",
        "    #'anuncios' vai buscar as informações de cada card\n",
        "    anuncios = soup.find('div',{'id':'container-cards'}).findAll('div',class_=\"card\") \n",
        "    \n",
        "    #Vamos fazer o segundo loop, buscando cada card para cada página\n",
        "    for anuncio in anuncios:\n",
        "        #Criamos um dicionario\n",
        "        card = {}\n",
        "\n",
        "        #adicionamos o ítem 'value' ao dicionário\n",
        "        card['value'] = anuncio.find('p',{'class':'txt-value'}).getText()\n",
        "\n",
        "        infos = anuncio.find('div', {'class':'body-card'}).findAll('p')\n",
        "\n",
        "        #mais um loop, agora para cada informação dentro do card\n",
        "        for info in infos:\n",
        "            #adicionamos as informações ao dicionario\n",
        "            card[info.get('class')[0].split('-')[-1]]=info.get_text()\n",
        "\n",
        "        items = anuncio.find('div',{'class':'body-card'}).ul.findAll('li')\n",
        "        items.pop()\n",
        "        acessorios = []\n",
        "        for item in items: \n",
        "            acessorios.append(item.getText().replace('► ', ''))\n",
        "        \n",
        "        #adicionar agora os acessorios no dicionario\n",
        "        card['items'] = acessorios\n",
        "\n",
        "        cards.append(card)"
      ],
      "execution_count": null,
      "outputs": []
    },
    {
      "cell_type": "code",
      "metadata": {
        "id": "xvQmHlvv7xLb",
        "colab_type": "code",
        "colab": {}
      },
      "source": [
        "#Criando um dataframe com os items extraídos\n",
        "dataset = pd.DataFrame(cards)"
      ],
      "execution_count": null,
      "outputs": []
    },
    {
      "cell_type": "code",
      "metadata": {
        "id": "v6ffZTjn8951",
        "colab_type": "code",
        "colab": {
          "base_uri": "https://localhost:8080/",
          "height": 289
        },
        "outputId": "377ac8e7-830e-499c-eb36-2a69069b12c4"
      },
      "source": [
        "dataset.sample(5)"
      ],
      "execution_count": null,
      "outputs": [
        {
          "output_type": "execute_result",
          "data": {
            "text/html": [
              "<div>\n",
              "<style scoped>\n",
              "    .dataframe tbody tr th:only-of-type {\n",
              "        vertical-align: middle;\n",
              "    }\n",
              "\n",
              "    .dataframe tbody tr th {\n",
              "        vertical-align: top;\n",
              "    }\n",
              "\n",
              "    .dataframe thead th {\n",
              "        text-align: right;\n",
              "    }\n",
              "</style>\n",
              "<table border=\"1\" class=\"dataframe\">\n",
              "  <thead>\n",
              "    <tr style=\"text-align: right;\">\n",
              "      <th></th>\n",
              "      <th>value</th>\n",
              "      <th>name</th>\n",
              "      <th>category</th>\n",
              "      <th>motor</th>\n",
              "      <th>description</th>\n",
              "      <th>location</th>\n",
              "      <th>items</th>\n",
              "      <th>opportunity</th>\n",
              "    </tr>\n",
              "  </thead>\n",
              "  <tbody>\n",
              "    <tr>\n",
              "      <th>140</th>\n",
              "      <td>R$ 422.000</td>\n",
              "      <td>CUBA</td>\n",
              "      <td>USADO</td>\n",
              "      <td>Motor Diesel</td>\n",
              "      <td>Ano 1992 - 62.255 km</td>\n",
              "      <td>Rio de Janeiro - RJ</td>\n",
              "      <td>[Vidros elétricos, Controle de tração, Piloto ...</td>\n",
              "      <td>NaN</td>\n",
              "    </tr>\n",
              "    <tr>\n",
              "      <th>89</th>\n",
              "      <td>R$ 201.000</td>\n",
              "      <td>OLDTIMERS</td>\n",
              "      <td>USADO</td>\n",
              "      <td>Motor Diesel</td>\n",
              "      <td>Ano 2015 - 41.735 km</td>\n",
              "      <td>Belo Horizonte - MG</td>\n",
              "      <td>[Vidros elétricos, Ar condicionado, Controle d...</td>\n",
              "      <td>NaN</td>\n",
              "    </tr>\n",
              "    <tr>\n",
              "      <th>202</th>\n",
              "      <td>R$ 318.000</td>\n",
              "      <td>PORSCHE TARGA</td>\n",
              "      <td>USADO</td>\n",
              "      <td>Motor 1.8 16v</td>\n",
              "      <td>Ano 2005 - 102.500 km</td>\n",
              "      <td>Belo Horizonte - MG</td>\n",
              "      <td>[Teto panorâmico, Câmbio automático, Sensor cr...</td>\n",
              "      <td>NaN</td>\n",
              "    </tr>\n",
              "    <tr>\n",
              "      <th>214</th>\n",
              "      <td>R$ 155.000</td>\n",
              "      <td>VOLKSWAGEN</td>\n",
              "      <td>USADO</td>\n",
              "      <td>Motor Diesel V8</td>\n",
              "      <td>Ano 2017 - 64.852 km</td>\n",
              "      <td>Belo Horizonte - MG</td>\n",
              "      <td>[Câmera de estacionamento, Central multimídia,...</td>\n",
              "      <td>OPORTUNIDADE</td>\n",
              "    </tr>\n",
              "    <tr>\n",
              "      <th>231</th>\n",
              "      <td>R$ 496.000</td>\n",
              "      <td>CORVETTE YELLOW</td>\n",
              "      <td>NOVO</td>\n",
              "      <td>Motor 5.0 V8 Bi-Turbo</td>\n",
              "      <td>Ano 2019 - 0 km</td>\n",
              "      <td>São Paulo - SP</td>\n",
              "      <td>[Bancos de couro, Rodas de liga, Sensor de chu...</td>\n",
              "      <td>NaN</td>\n",
              "    </tr>\n",
              "  </tbody>\n",
              "</table>\n",
              "</div>"
            ],
            "text/plain": [
              "          value  ...   opportunity\n",
              "140  R$ 422.000  ...           NaN\n",
              "89   R$ 201.000  ...           NaN\n",
              "202  R$ 318.000  ...           NaN\n",
              "214  R$ 155.000  ...  OPORTUNIDADE\n",
              "231  R$ 496.000  ...           NaN\n",
              "\n",
              "[5 rows x 8 columns]"
            ]
          },
          "metadata": {
            "tags": []
          },
          "execution_count": 44
        }
      ]
    },
    {
      "cell_type": "code",
      "metadata": {
        "id": "mSb-y6Ma9geO",
        "colab_type": "code",
        "colab": {}
      },
      "source": [
        ""
      ],
      "execution_count": null,
      "outputs": []
    }
  ]
}