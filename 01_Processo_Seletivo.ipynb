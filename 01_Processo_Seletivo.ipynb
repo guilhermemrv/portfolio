{
  "nbformat": 4,
  "nbformat_minor": 0,
  "metadata": {
    "colab": {
      "name": "01 - Processo Seletivo.ipynb",
      "provenance": [],
      "collapsed_sections": [
        "MBrg51_ogbGI",
        "KA9UPLGQscTp",
        "PTeVS0Sd86qg"
      ]
    },
    "kernelspec": {
      "name": "python3",
      "display_name": "Python 3"
    }
  },
  "cells": [
    {
      "cell_type": "markdown",
      "metadata": {
        "id": "bT0OLmNuZtOY",
        "colab_type": "text"
      },
      "source": [
        "Esse teste foi requisitado em um processo seletivo que participei.\n",
        "\n",
        "Habilidades desenvolvidas no código abaixo:\n",
        "\n",
        "\n",
        "1.   Criação de métodos iterando uma lista de objetos \n",
        "2.   Criação de funções com iterações\n",
        "3.   Prevenir que o usuário insira um valor errado\n",
        "\n"
      ]
    },
    {
      "cell_type": "markdown",
      "metadata": {
        "id": "MBrg51_ogbGI",
        "colab_type": "text"
      },
      "source": [
        "#Questão 1\n",
        "\n"
      ]
    },
    {
      "cell_type": "markdown",
      "metadata": {
        "id": "4MbkCvFeg-MZ",
        "colab_type": "text"
      },
      "source": [
        "Implemente, na linguagem em que estiver mais confortável, uma função que recebe uma lista L e um número inteiro (int) k e faz k vezes uma “rotação” para a esquerda (se k for negativo, é para a direita). \n",
        "\n",
        "Exemplos de input / output: \n",
        "L = [1,2,3,4], k = 2 => [3,4,1,2] \n",
        "\n",
        "L = [1,2,3,4,5,6], k = - 7 => [6,1,2,3,4,5]\n",
        ")"
      ]
    },
    {
      "cell_type": "code",
      "metadata": {
        "id": "zLoTYiX8DBaF",
        "colab_type": "code",
        "colab": {
          "base_uri": "https://localhost:8080/",
          "height": 420
        },
        "outputId": "14741657-7827-4bb2-e68a-2b41339c39af"
      },
      "source": [
        "#Vamos colocar um loop para evitar que o programa pare quando houver alguma falha de digitação\n",
        "while True:\n",
        "  try:\n",
        "  \n",
        "    qtde = int(input(\"Quantos ítens terá em sua lista? \\n\"))\n",
        "    #Criaremos aqui uma lista com a quantidade de itens indicadas no input anterior\n",
        "    L = [int(input(\"Insira o ítem {} de {} \\n\".format(i+1,qtde))) for i in range(qtde)]\n",
        "    k = int(input(\"\\nQuantas vezes a lista será rotacionada? \\n(Numeros negativos rotacionam à direita, positivos à esquerda) \\n\"))\n",
        "\n",
        "    #Apesar de a variavel receber itens inteiros, vamos restringir para apenas os positivos\n",
        "    if not qtde>0:\n",
        "      raise ValueError(\"Insira uma quantidade válida de ítens\\n\")\n",
        "\n",
        "    #Essa operação abaixo nos retorna o resto da divisão entre a quantidade de rotações e o tamanho da lista\n",
        "    k_rest = k % qtde \n",
        "    #Fazemos isso para que rotacione mesmo quando \"k\" seja maior que a quantidade de ítens da lista \"L\"\n",
        "    L_rotate = L[k_rest:] + L[:k_rest]\n",
        "    #Aqui iremos somar a lista \n",
        "\n",
        "\n",
        "    print(\"Sua lista rotacionada é:\")\n",
        "    print(L_rotate)\n",
        "    break\n",
        "\n",
        "  #O ValueError identifica quando um valor inserido não é permitido\n",
        "  except ValueError as e:\n",
        "        print(\"Valor inválido:\", e)\n",
        "        continue"
      ],
      "execution_count": 5,
      "outputs": [
        {
          "output_type": "stream",
          "text": [
            "Quantos ítens terá em sua lista? \n",
            "-4\n",
            "\n",
            "Quantas vezes a lista será rotacionada? \n",
            "(Numeros negativos rotacionam à direita, positivos à esquerda) \n",
            "3\n",
            "Valor inválido: Insira uma quantidade válida de ítens\n",
            "\n",
            "Quantos ítens terá em sua lista? \n",
            "4\n",
            "Insira o ítem 1 de 4 \n",
            "5\n",
            "Insira o ítem 2 de 4 \n",
            "-2\n",
            "Insira o ítem 3 de 4 \n",
            "4\n",
            "Insira o ítem 4 de 4 \n",
            "9\n",
            "\n",
            "Quantas vezes a lista será rotacionada? \n",
            "(Numeros negativos rotacionam à direita, positivos à esquerda) \n",
            "5\n",
            "Sua lista rotacionada é:\n",
            "[-2, 4, 9, 5]\n"
          ],
          "name": "stdout"
        }
      ]
    },
    {
      "cell_type": "markdown",
      "metadata": {
        "id": "KA9UPLGQscTp",
        "colab_type": "text"
      },
      "source": [
        "#Questão 2"
      ]
    },
    {
      "cell_type": "markdown",
      "metadata": {
        "id": "p3q8AKRushHd",
        "colab_type": "text"
      },
      "source": [
        "Implemente, na linguagem em que estiver mais confortável, uma função que recebe um número inteiro (int) e retorna um booleano: verdadeiro se a representação binária do inteiro for um palíndromo (ver definições abaixo), e falso caso contrário. \n",
        "\n",
        "Descreva também os casos de teste que você usaria para testar sua função.\n",
        "\n",
        "\n",
        "Definições: \n",
        "\n",
        "A representação binária de um número inteiro positivo é a representação única desse número como soma de potências de 2, ex: \n",
        "\n",
        "5 = 1 * 4 + 0 * 2 + 1 * 1 => 101 \n",
        "\n",
        "22 = 1 * 16 + 0 * 8 + 1 * 4 + 1 * 2 + 0 * 1 => 10110 \n",
        "\n",
        "\n",
        "Uma palavra ou número é um palíndromo se for igual lido de frente para trás ou de trás para frente, por exemplo: arara, ou 158851"
      ]
    },
    {
      "cell_type": "code",
      "metadata": {
        "id": "uEsp0M4-7Ptp",
        "colab_type": "code",
        "colab": {}
      },
      "source": [
        "def checar_palindromo(valor):\n",
        "  valor_string = str(valor)\n",
        "  #Essa operação não seria possível com um inteiro, então vamos transformar em uma string.\n",
        "  if valor_string == valor_string[::-1]:\n",
        "    resposta = \" é um palíndromo.\"\n",
        "    resposta_bool = True\n",
        "  else:\n",
        "    resposta = \" não é um palíndromo.\"\n",
        "    resposta_bool = False\n",
        "  return resposta, resposta_bool\n",
        "\n",
        "def decimal_para_binario(x):\n",
        "  return int(bin(x)[2:])\n",
        "  #Essa função 'bin' devolve uma string iniciando com os dois dígitos representando que o número é binário\n",
        "  #Então iremos retornar o valor a partir do terceiro dígito. "
      ],
      "execution_count": 6,
      "outputs": []
    },
    {
      "cell_type": "code",
      "metadata": {
        "id": "jyj32hB36jbi",
        "colab_type": "code",
        "colab": {
          "base_uri": "https://localhost:8080/",
          "height": 118
        },
        "outputId": "af8a831d-d254-4374-d758-f84a9565b7f7"
      },
      "source": [
        "#Vamos colocar um artifício para evitar parar o código\n",
        "while True:\n",
        "  try:\n",
        "\n",
        "    valor = int(input(\"Insira um valor inteiro positivo a ser checado: \\n\"))\n",
        "    valor_binario = decimal_para_binario(valor)\n",
        "    resultado,resultado_bool = checar_palindromo(valor_binario)\n",
        "    print(\"{}. O valor binário do inteiro decimal {}{}\".format(resultado_bool,valor,resultado))\n",
        "    break\n",
        "    \n",
        "  except ValueError as e:\n",
        "        print(\"Valor inválido:\", e)\n",
        "        continue"
      ],
      "execution_count": 7,
      "outputs": [
        {
          "output_type": "stream",
          "text": [
            "Insira um valor inteiro positivo a ser checado: \n",
            "-3\n",
            "Valor inválido: invalid literal for int() with base 10: 'b11'\n",
            "Insira um valor inteiro positivo a ser checado: \n",
            "5\n",
            "True. O valor binário do inteiro decimal 5 é um palíndromo.\n"
          ],
          "name": "stdout"
        }
      ]
    },
    {
      "cell_type": "markdown",
      "metadata": {
        "id": "9XlOxqhLjF_k",
        "colab_type": "text"
      },
      "source": [
        "Temos aqui alguns exemplos de números, cujo valor binário é um palíndromo.\n",
        "\n",
        "21 -> 10101\n",
        "\n",
        "73 -> 1001001\n",
        "\n",
        "1023 -> 1111111111\n",
        "\n",
        "45 -> 101101\n",
        "\n",
        "E alguns valores que não são palíndromo:\n",
        "\n",
        "57 -> 111001\n",
        "\n",
        "2032 -> 11111110000\n",
        "\n",
        "34  -> 100010\n",
        "\n",
        "8  -> 1000"
      ]
    },
    {
      "cell_type": "code",
      "metadata": {
        "id": "s6aZZT54jCDt",
        "colab_type": "code",
        "colab": {
          "base_uri": "https://localhost:8080/",
          "height": 84
        },
        "outputId": "0e3b8004-1f4b-44c4-dd59-229ed6a3665f"
      },
      "source": [
        "#Sendo assim, iremos printar os 4 números que se espera obter palíndromos.\n",
        "resp, resp_bool = checar_palindromo(decimal_para_binario(21));print(resp_bool)\n",
        "resp, resp_bool = checar_palindromo(decimal_para_binario(73));print(resp_bool)\n",
        "resp, resp_bool = checar_palindromo(decimal_para_binario(1023));print(resp_bool)\n",
        "resp, resp_bool = checar_palindromo(decimal_para_binario(45));print(resp_bool)"
      ],
      "execution_count": 8,
      "outputs": [
        {
          "output_type": "stream",
          "text": [
            "True\n",
            "True\n",
            "True\n",
            "True\n"
          ],
          "name": "stdout"
        }
      ]
    },
    {
      "cell_type": "code",
      "metadata": {
        "id": "ptHPm2XynjuF",
        "colab_type": "code",
        "colab": {
          "base_uri": "https://localhost:8080/",
          "height": 84
        },
        "outputId": "a9bd3e8d-2b89-41c0-ac31-dbceaf7c9f9c"
      },
      "source": [
        "#Agora testaremos 4 números que não são palíndromos\n",
        "resp, resp_bool = checar_palindromo(decimal_para_binario(57));print(resp_bool)\n",
        "resp, resp_bool = checar_palindromo(decimal_para_binario(2032));print(resp_bool)\n",
        "resp, resp_bool = checar_palindromo(decimal_para_binario(34));print(resp_bool)\n",
        "resp, resp_bool = checar_palindromo(decimal_para_binario(8));print(resp_bool)"
      ],
      "execution_count": 9,
      "outputs": [
        {
          "output_type": "stream",
          "text": [
            "False\n",
            "False\n",
            "False\n",
            "False\n"
          ],
          "name": "stdout"
        }
      ]
    },
    {
      "cell_type": "markdown",
      "metadata": {
        "id": "PTeVS0Sd86qg",
        "colab_type": "text"
      },
      "source": [
        "#Questão 3\n"
      ]
    },
    {
      "cell_type": "markdown",
      "metadata": {
        "id": "Da68dC6r9Gnk",
        "colab_type": "text"
      },
      "source": [
        "Implemente uma função que recebe uma lista de pares de números reais, que representam intervalos fechados, determine a união desses intervalos, e retorne uma nova lista de pares de números reais que represente o conjunto de intervalos fechados disjuntos (ou seja, com interseção vazia) que compõem essa união.\n",
        " \n",
        "Exemplo de input: [2, 5], [1, 3], [7, 10], [10, 15], [-3.5, -1.5], [12, 20] \n",
        "\n",
        "Output: [-3.5, -1.5], [1, 5], [7, 20]"
      ]
    },
    {
      "cell_type": "code",
      "metadata": {
        "id": "kkHZ17d_Hb0n",
        "colab_type": "code",
        "colab": {}
      },
      "source": [
        "#Essa função retorna a união de dois intervalos. Usaremos nos casos de interseção entre intervalos.\n",
        "def uniao(a,b,x,y):\n",
        "    c=min(a,x)\n",
        "    d=max(b,y)\n",
        "    return [c,d]\n",
        "\n",
        "#Essa função retorna Verdadeiro caso exista alguma interseção entre dois intervalos diferentes.\n",
        "def checa_intersecao(a,b,x,y):\n",
        "  if a==x and b==y:\n",
        "    return False\n",
        "  elif (a <= x <= b) or (a <= y <= b) or (x <= a <= y) or (x <= b <= y):\n",
        "    return True\n",
        "  else:\n",
        "    return False\n",
        "\n",
        "#Essa função remove os ítens repetidos de uma lista e a retorna com os ítens ordenados \n",
        "def remove_repetidos(lista):\n",
        "  i = 0\n",
        "  while i < len(lista):\n",
        "    j = i + 1\n",
        "    while j < len(lista):\n",
        "      if lista[j] == lista[i]:\n",
        "        del(lista[j])\n",
        "      else:\n",
        "        j = j + 1\n",
        "    i = i + 1\n",
        "  return sorted(lista)"
      ],
      "execution_count": 10,
      "outputs": []
    },
    {
      "cell_type": "code",
      "metadata": {
        "id": "w-Qf3dtt0HBv",
        "colab_type": "code",
        "colab": {
          "base_uri": "https://localhost:8080/",
          "height": 353
        },
        "outputId": "fc27b3e1-3498-49b6-fd49-cbb423c58934"
      },
      "source": [
        "qtde = int(input(\"Quantos pares de intervalos terá em sua lista?\\n\"))\n",
        "print(\"Iremos inserir os pares de ítens um a um, ok?\\n(Lembrando que em um intervalo o segundo valor não pode ser menor que o primeiro)\")\n",
        "lista_1 = [[float(input(\"\\nInsira o primeiro ítem do intervalo {} de {}\\n\".format(i+1,qtde))),\n",
        "            float(input(\"Insira o segundo ítem do intervalo {} de {}\\n\".format(i+1,qtde)))]for i in range(qtde)]\n",
        "lista_2 = []\n",
        "\n",
        "for x in lista_1:\n",
        "  #Um sinalizador indicará se houve alguma interseção entre o item iterado e a lista alvo\n",
        "  sinal=0  \n",
        "  for y in lista_2:\n",
        "      if checa_intersecao(x[0],x[1],y[0],y[1]):\n",
        "        unido = uniao(x[0],x[1],y[0],y[1])\n",
        "        lista_2.append(unido)\n",
        "        lista_2.remove(y)\n",
        "        sinal=+1\n",
        "        #Com o codigo abaixo, faremos ele checar se há interseções com outros ítens da lista alvo\n",
        "        #O sinalizador indica quantas vezes houve interseção \n",
        "        #Então nos dá a dica de quantas vezes devemos procurar por interseções na lista alvo\n",
        "        for s in range(sinal+1):\n",
        "          for i in range(len(lista_2)):  \n",
        "            if i <= len(lista_2):\n",
        "              z=lista_2[i]\n",
        "              if checa_intersecao(x[0],x[1],z[0],z[1]):\n",
        "                unido = uniao(x[0],x[1],z[0],z[1])\n",
        "                lista_2.remove(z)\n",
        "                lista_2.append(unido)\n",
        "                \n",
        "            \n",
        "  if sinal==0:\n",
        "    lista_2.append(x)\n",
        "\n",
        "lista_unica = remove_repetidos(lista_2)\n",
        "print(lista_unica)"
      ],
      "execution_count": 11,
      "outputs": [
        {
          "output_type": "stream",
          "text": [
            "Quantos pares de intervalos terá em sua lista?\n",
            "3\n",
            "Iremos inserir os pares de ítens um a um, ok?\n",
            "(Lembrando que em um intervalo o segundo valor não pode ser menor que o primeiro)\n",
            "\n",
            "Insira o primeiro ítem do intervalo 1 de 3\n",
            "2\n",
            "Insira o segundo ítem do intervalo 1 de 3\n",
            "3\n",
            "\n",
            "Insira o primeiro ítem do intervalo 2 de 3\n",
            "4\n",
            "Insira o segundo ítem do intervalo 2 de 3\n",
            "5\n",
            "\n",
            "Insira o primeiro ítem do intervalo 3 de 3\n",
            "1\n",
            "Insira o segundo ítem do intervalo 3 de 3\n",
            "6\n",
            "[[1.0, 6.0]]\n"
          ],
          "name": "stdout"
        }
      ]
    },
    {
      "cell_type": "markdown",
      "metadata": {
        "id": "xRT1c2Yx-cAb",
        "colab_type": "text"
      },
      "source": [
        "#Questão 4"
      ]
    },
    {
      "cell_type": "markdown",
      "metadata": {
        "id": "25J-VgvP-fKg",
        "colab_type": "text"
      },
      "source": [
        "Escolha para essa questão uma linguagem que permita orientação a objeto. \n",
        "\n",
        "Crie um objeto chamado Trade (classe / struct) com os seguintes campos: TradeDate (formato data), Instrument (formato string), SideIsBuy (booleano – verdadeiro se foi uma compra), Quantity e Price (ambos formatos numérico, não necessariamente inteiro). \n",
        "\n",
        "Construa também duas funções: \n",
        "\n",
        "a) Função que recebe uma lista de objetos Trade e retorne o financeiro total (quantidade vezes preço) agrupado por data (venda soma, pois você recebe dinheiro, e compra subtrai). Deve ser uma lista de pares (Data, Financeiro Total) incluindo todas as datas em que ocorreu pelo menos um trade (o financeiro pode ser zero, por exemplo, se houve uma compra e uma venda no mesmo preço). \n",
        "\n",
        "b) Função que recebe uma lista de objetos Trade e uma data (dois parâmetros), e retorne uma lista de pares (Instrument, Quantidade Total) com a posição de cada instrumento na data. \n",
        "\n",
        "Cada instrumento (string) deve aparecer uma única vez, com a quantidade que é a soma de todas as compras menos a soma de todas as vendas que ocorreram até a data fornecida (incluindo a própria data). Caso o resultado seja zero, o instrumento deve ser omitido (não deve aparecer na lista)."
      ]
    },
    {
      "cell_type": "markdown",
      "metadata": {
        "id": "S1Fiarogaa5Y",
        "colab_type": "text"
      },
      "source": [
        "lista = [tradedate, quantitity, price, sideisbuy, \n",
        "instrument]"
      ]
    },
    {
      "cell_type": "code",
      "metadata": {
        "id": "m9HAtODT1a7Y",
        "colab_type": "code",
        "colab": {}
      },
      "source": [
        "class Trade:\n",
        "  #Foi criada um objeto com os atributos indicados\n",
        "  def __init__(self,data,qtde,preco,sideisbuy,instrument):\n",
        "        self.tradedate = data\n",
        "        self.quantity = qtde\n",
        "        self.price = preco\n",
        "        self.sideisbuy = sideisbuy\n",
        "        self.instrument = instrument"
      ],
      "execution_count": 12,
      "outputs": []
    },
    {
      "cell_type": "code",
      "metadata": {
        "id": "kFOxWg1UgPK1",
        "colab_type": "code",
        "colab": {}
      },
      "source": [
        "#Essa função vai percorrer uma lista com vários trades e retornar um dicionario com um par de ítens\n",
        "def trade_por_dia(lista):\n",
        "  #Criamos o dicionario alvo\n",
        "  financeiro = {}\n",
        "  for trade in lista:\n",
        "\n",
        "    #Criamos nova variável de preço\n",
        "    preco_novo = trade.price\n",
        "    #Caso seja venda (False) iremos deixar positivo; caso seja compra (True), negativo\n",
        "    if trade.sideisbuy == True:\n",
        "      preco_novo = trade.price*(-1)\n",
        "\n",
        "    #O código abaixo verifica se já existe no dicionário a data do Trade\n",
        "    #Dessa forma ele garante o agrupamento somando o valor quando existe\n",
        "    if trade.tradedate in financeiro:\n",
        "      financeiro_total = (trade.quantity * preco_novo) + financeiro[trade.tradedate]\n",
        "      financeiro[trade.tradedate] = financeiro_total\n",
        "    #Caso não tenha, adiciona ao dicionario \n",
        "    else:\n",
        "      financeiro[trade.tradedate] = (trade.quantity * preco_novo)\n",
        "  #Retorna um dicionário com os pares\n",
        "  return financeiro"
      ],
      "execution_count": 13,
      "outputs": []
    },
    {
      "cell_type": "code",
      "metadata": {
        "id": "xAUtrMZ-Jcfa",
        "colab_type": "code",
        "colab": {}
      },
      "source": [
        "#Vamos criar uma função que recebe uma lista e uma data\n",
        "def trade_por_instrumento(lista,data):\n",
        "  financeiro = {}\n",
        "  #Ela vai percorrer cada elemento na lista\n",
        "  for trade in lista:\n",
        "    #Vai selecionar todos os trades que ocorreram até a data inserida\n",
        "    if trade.tradedate <= data:\n",
        "      qtde_novo=trade.quantity\n",
        "\n",
        "      #O código abaixo transforma a operação em subtração caso seja venda(False)\n",
        "      if trade.sideisbuy == False:\n",
        "        qtde_novo = trade.quantity*(-1)\n",
        "\n",
        "      #Caso o instrumento ja esteja no dicionario, acrescenta a quantidade (somando em compras, substraindo em vendas)\n",
        "      if trade.instrument in financeiro:\n",
        "        quantidade_total = financeiro[trade.instrument] + qtde_novo\n",
        "        financeiro[trade.instrument] = quantidade_total\n",
        "      #Caso nao esteja, adiciona.\n",
        "      else:\n",
        "        financeiro[trade.instrument] = qtde_novo\n",
        "\n",
        "      #Remove o item caso o valor do intrumento for zero\n",
        "      if financeiro[trade.instrument] ==0:\n",
        "        del  financeiro[trade.instrument]\n",
        "\n",
        "  #Retorna um dicionário com pares\n",
        "  return financeiro"
      ],
      "execution_count": 14,
      "outputs": []
    }
  ]
}